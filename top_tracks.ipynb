{
 "cells": [
  {
   "cell_type": "markdown",
   "metadata": {},
   "source": [
    "# 🎶 Top Tracks Analysis: Billboard Hot 100 Trends (2019-2023)\n",
    "\n",
    "This project explores trends in the **Billboard Hot 100** from 2019 to 2023, using data from **Spotify** and **Choosic**. We will analyze:\n",
    "\n",
    "- **Music Trends**: Dominant genres, BPM, musical keys, happiness and longevity.\n",
    "- **Artist Trends**: Artist consistency, collaborations, and growth.\n",
    "\n",
    "The goal is to understand the evolving characteristics of the top tracks and how they reflect shifts in music preferences."
   ]
  },
  {
   "cell_type": "code",
   "execution_count": null,
   "metadata": {},
   "outputs": [],
   "source": [
    "# import lyricsgenius\n",
    "import pandas as pd"
   ]
  },
  {
   "cell_type": "code",
   "execution_count": null,
   "metadata": {
    "tags": [
     "hide-input"
    ]
   },
   "outputs": [],
   "source": [
    "# The following code was commented out to prevent making repeated requests to the Genius API.\n",
    "#\n",
    "# token = # Redacted\n",
    "# genius = lyricsgenius.Genius(token,timeout=720)\n",
    "# df_2019 = pd.read_csv('Raw_Data/Hot 100 Songs 2019.csv')\n",
    "# df_2020 = pd.read_csv('Raw_Data/Hot 100 Songs 2020.csv')\n",
    "# df_2021 = pd.read_csv('Raw_Data/Hot 100 Songs 2021.csv')\n",
    "# df_2022 = pd.read_csv('Raw_Data/Hot 100 Songs 2022.csv')\n",
    "# df_2023 = pd.read_csv('Raw_Data/Hot 100 Songs 2023.csv')\n",
    "\n",
    "# list_df = [df_2019,df_2020,df_2021,df_2022,df_2023]\n",
    "\n",
    "# for df in list_df:\n",
    "#     df['Artist'] = df['Artist'].apply(lambda x: x.split(','))\n",
    "#     df[\"Lyrics\"]=None\n",
    "#     for song_index in df.index:\n",
    "#         song_name = df[\"Song\"][song_index]\n",
    "#         artist_name = df[\"Artist\"][song_index][0]\n",
    "#         df.loc[song_index,\"Lyrics\"] = genius.search_song(song_name, artist_name).lyrics\n",
    "\n",
    "# for year,df in enumerate(list_df,2019):\n",
    "#     df.to_csv(f'Processed_Data/Hot_100_Songs_{year}.csv')"
   ]
  },
  {
   "cell_type": "code",
   "execution_count": null,
   "metadata": {},
   "outputs": [],
   "source": [
    "df_2019 = pd.read_csv('Processed_Data/Hot_100_Songs_2019.csv')\n",
    "df_2020 = pd.read_csv('Processed_Data/Hot_100_Songs_2020.csv')\n",
    "df_2021 = pd.read_csv('Processed_Data/Hot_100_Songs_2021.csv')\n",
    "df_2022 = pd.read_csv('Processed_Data/Hot_100_Songs_2022.csv')\n",
    "df_2023 = pd.read_csv('Processed_Data/Hot_100_Songs_2023.csv')"
   ]
  }
 ],
 "metadata": {
  "kernelspec": {
   "display_name": "Python 3",
   "language": "python",
   "name": "python3"
  },
  "language_info": {
   "codemirror_mode": {
    "name": "ipython",
    "version": 3
   },
   "file_extension": ".py",
   "mimetype": "text/x-python",
   "name": "python",
   "nbconvert_exporter": "python",
   "pygments_lexer": "ipython3",
   "version": "3.12.7"
  }
 },
 "nbformat": 4,
 "nbformat_minor": 2
}
