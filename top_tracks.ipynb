{
 "cells": [
  {
   "cell_type": "markdown",
   "metadata": {},
   "source": [
    "# 🎶 Top Tracks Analysis: Billboard Hot 100 Trends (2019-2023)\n",
    "\n",
    "This project explores trends in the **Billboard Hot 100** from 2019 to 2023, using data from **Spotify** and **Choosic**. We will analyze:\n",
    "\n",
    "- **Music Trends**: Dominant genres, BPM, musical keys, happiness and longevity.\n",
    "- **Artist Trends**: Artist consistency, collaborations, and growth.\n",
    "\n",
    "The goal is to understand the evolving characteristics of the top tracks and how they reflect shifts in music preferences."
   ]
  },
  {
   "cell_type": "code",
   "execution_count": null,
   "metadata": {},
   "outputs": [],
   "source": []
  }
 ],
 "metadata": {
  "kernelspec": {
   "display_name": "Python 3",
   "language": "python",
   "name": "python3"
  },
  "language_info": {
   "name": "python",
   "version": "3.12.7"
  }
 },
 "nbformat": 4,
 "nbformat_minor": 2
}
